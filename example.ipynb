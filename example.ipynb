{
 "cells": [
  {
   "cell_type": "code",
   "execution_count": 1,
   "metadata": {
    "ExecuteTime": {
     "end_time": "2017-07-06T09:19:23.859177Z",
     "start_time": "2017-07-06T09:19:23.849208Z"
    },
    "collapsed": true
   },
   "outputs": [],
   "source": [
    "import pandas as pd"
   ]
  },
  {
   "cell_type": "code",
   "execution_count": 2,
   "metadata": {
    "collapsed": true
   },
   "outputs": [],
   "source": [
    "from api.databases import HiveFactory"
   ]
  },
  {
   "cell_type": "code",
   "execution_count": 3,
   "metadata": {
    "ExecuteTime": {
     "end_time": "2017-07-06T13:23:17.553162Z",
     "start_time": "2017-07-06T13:23:17.431301Z"
    }
   },
   "outputs": [
    {
     "name": "stdout",
     "output_type": "stream",
     "text": [
      "Reading config.yml...\n",
      "Initializing variables...\n",
      "Download keystore...\n"
     ]
    }
   ],
   "source": [
    "hive = HiveFactory('<q-number>', '<password>').create_engine()"
   ]
  },
  {
   "cell_type": "code",
   "execution_count": 4,
   "metadata": {
    "ExecuteTime": {
     "end_time": "2017-07-06T09:19:31.086737Z",
     "start_time": "2017-07-06T09:19:31.057732Z"
    }
   },
   "outputs": [
    {
     "data": {
      "text/html": [
       "<div>\n",
       "<style>\n",
       "    .dataframe thead tr:only-child th {\n",
       "        text-align: right;\n",
       "    }\n",
       "\n",
       "    .dataframe thead th {\n",
       "        text-align: left;\n",
       "    }\n",
       "\n",
       "    .dataframe tbody tr th {\n",
       "        vertical-align: top;\n",
       "    }\n",
       "</style>\n",
       "<table border=\"1\" class=\"dataframe\">\n",
       "  <thead>\n",
       "    <tr style=\"text-align: right;\">\n",
       "      <th></th>\n",
       "      <th>hmi_ipa.idx</th>\n",
       "      <th>hmi_ipa.datestring</th>\n",
       "      <th>hmi_ipa.event</th>\n",
       "      <th>hmi_ipa.name</th>\n",
       "    </tr>\n",
       "  </thead>\n",
       "  <tbody>\n",
       "    <tr>\n",
       "      <th>0</th>\n",
       "      <td>0</td>\n",
       "      <td>20170625</td>\n",
       "      <td>{\"timestamp\": 1498295669763, \"type\": \"RAW_HMI_...</td>\n",
       "      <td>anonymousVehicle-1498295542197-162461905814395...</td>\n",
       "    </tr>\n",
       "    <tr>\n",
       "      <th>1</th>\n",
       "      <td>1</td>\n",
       "      <td>20170625</td>\n",
       "      <td>{\"timestamp\": 1498295669768, \"type\": \"RAW_HMI_...</td>\n",
       "      <td>anonymousVehicle-1498295542197-162461905814395...</td>\n",
       "    </tr>\n",
       "    <tr>\n",
       "      <th>2</th>\n",
       "      <td>2</td>\n",
       "      <td>20170625</td>\n",
       "      <td>{\"timestamp\": 1498295669768, \"type\": \"RAW_HMI_...</td>\n",
       "      <td>anonymousVehicle-1498295542197-162461905814395...</td>\n",
       "    </tr>\n",
       "    <tr>\n",
       "      <th>3</th>\n",
       "      <td>3</td>\n",
       "      <td>20170625</td>\n",
       "      <td>{\"timestamp\": 1498295669768, \"type\": \"RAW_HMI_...</td>\n",
       "      <td>anonymousVehicle-1498295542197-162461905814395...</td>\n",
       "    </tr>\n",
       "    <tr>\n",
       "      <th>4</th>\n",
       "      <td>4</td>\n",
       "      <td>20170625</td>\n",
       "      <td>{\"timestamp\": 1498295669768, \"type\": \"RAW_HMI_...</td>\n",
       "      <td>anonymousVehicle-1498295542197-162461905814395...</td>\n",
       "    </tr>\n",
       "    <tr>\n",
       "      <th>5</th>\n",
       "      <td>5</td>\n",
       "      <td>20170625</td>\n",
       "      <td>{\"timestamp\": 1498295669769, \"type\": \"RAW_HMI_...</td>\n",
       "      <td>anonymousVehicle-1498295542197-162461905814395...</td>\n",
       "    </tr>\n",
       "    <tr>\n",
       "      <th>6</th>\n",
       "      <td>6</td>\n",
       "      <td>20170625</td>\n",
       "      <td>{\"timestamp\": 1498350602135, \"type\": \"RAW_HMI_...</td>\n",
       "      <td>anonymousVehicle-1498338632931-257841134044394...</td>\n",
       "    </tr>\n",
       "    <tr>\n",
       "      <th>7</th>\n",
       "      <td>7</td>\n",
       "      <td>20170625</td>\n",
       "      <td>{\"timestamp\": 1498354865147, \"type\": \"RAW_HMI_...</td>\n",
       "      <td>anonymousVehicle-1498339564370-155586521866310...</td>\n",
       "    </tr>\n",
       "    <tr>\n",
       "      <th>8</th>\n",
       "      <td>8</td>\n",
       "      <td>20170625</td>\n",
       "      <td>{\"timestamp\": 1498354866164, \"type\": \"RAW_HMI_...</td>\n",
       "      <td>anonymousVehicle-1498339564370-155586521866310...</td>\n",
       "    </tr>\n",
       "    <tr>\n",
       "      <th>9</th>\n",
       "      <td>9</td>\n",
       "      <td>20170625</td>\n",
       "      <td>{\"timestamp\": 1498354868947, \"type\": \"RAW_HMI_...</td>\n",
       "      <td>anonymousVehicle-1498339564370-155586521866310...</td>\n",
       "    </tr>\n",
       "  </tbody>\n",
       "</table>\n",
       "</div>"
      ],
      "text/plain": [
       "  hmi_ipa.idx hmi_ipa.datestring  \\\n",
       "0           0           20170625   \n",
       "1           1           20170625   \n",
       "2           2           20170625   \n",
       "3           3           20170625   \n",
       "4           4           20170625   \n",
       "5           5           20170625   \n",
       "6           6           20170625   \n",
       "7           7           20170625   \n",
       "8           8           20170625   \n",
       "9           9           20170625   \n",
       "\n",
       "                                       hmi_ipa.event  \\\n",
       "0  {\"timestamp\": 1498295669763, \"type\": \"RAW_HMI_...   \n",
       "1  {\"timestamp\": 1498295669768, \"type\": \"RAW_HMI_...   \n",
       "2  {\"timestamp\": 1498295669768, \"type\": \"RAW_HMI_...   \n",
       "3  {\"timestamp\": 1498295669768, \"type\": \"RAW_HMI_...   \n",
       "4  {\"timestamp\": 1498295669768, \"type\": \"RAW_HMI_...   \n",
       "5  {\"timestamp\": 1498295669769, \"type\": \"RAW_HMI_...   \n",
       "6  {\"timestamp\": 1498350602135, \"type\": \"RAW_HMI_...   \n",
       "7  {\"timestamp\": 1498354865147, \"type\": \"RAW_HMI_...   \n",
       "8  {\"timestamp\": 1498354866164, \"type\": \"RAW_HMI_...   \n",
       "9  {\"timestamp\": 1498354868947, \"type\": \"RAW_HMI_...   \n",
       "\n",
       "                                        hmi_ipa.name  \n",
       "0  anonymousVehicle-1498295542197-162461905814395...  \n",
       "1  anonymousVehicle-1498295542197-162461905814395...  \n",
       "2  anonymousVehicle-1498295542197-162461905814395...  \n",
       "3  anonymousVehicle-1498295542197-162461905814395...  \n",
       "4  anonymousVehicle-1498295542197-162461905814395...  \n",
       "5  anonymousVehicle-1498295542197-162461905814395...  \n",
       "6  anonymousVehicle-1498338632931-257841134044394...  \n",
       "7  anonymousVehicle-1498339564370-155586521866310...  \n",
       "8  anonymousVehicle-1498339564370-155586521866310...  \n",
       "9  anonymousVehicle-1498339564370-155586521866310...  "
      ]
     },
     "execution_count": 4,
     "metadata": {},
     "output_type": "execute_result"
    }
   ],
   "source": [
    "pd.read_sql('select * from jviehhauser.hmi_ipa limit 10', hive.engine)"
   ]
  }
 ],
 "metadata": {
  "hide_input": false,
  "kernelspec": {
   "display_name": "Python 2",
   "language": "python",
   "name": "python2"
  },
  "language_info": {
   "codemirror_mode": {
    "name": "ipython",
    "version": 2
   },
   "file_extension": ".py",
   "mimetype": "text/x-python",
   "name": "python",
   "nbconvert_exporter": "python",
   "pygments_lexer": "ipython2",
   "version": "2.7.13"
  },
  "latex_envs": {
   "LaTeX_envs_menu_present": true,
   "autocomplete": true,
   "bibliofile": "biblio.bib",
   "cite_by": "apalike",
   "current_citInitial": 1.0,
   "eqLabelWithNumbers": true,
   "eqNumInitial": 1.0,
   "hotkeys": {
    "equation": "Ctrl-E",
    "itemize": "Ctrl-I"
   },
   "labels_anchors": false,
   "latex_user_defs": false,
   "report_style_numbering": false,
   "user_envs_cfg": false
  },
  "toc": {
   "colors": {
    "hover_highlight": "#DAA520",
    "running_highlight": "#FF0000",
    "selected_highlight": "#FFD700"
   },
   "moveMenuLeft": true,
   "nav_menu": {
    "height": "12px",
    "width": "252px"
   },
   "navigate_menu": true,
   "number_sections": true,
   "sideBar": true,
   "threshold": 4.0,
   "toc_cell": false,
   "toc_section_display": "block",
   "toc_window_display": false,
   "widenNotebook": false
  }
 },
 "nbformat": 4,
 "nbformat_minor": 2
}
